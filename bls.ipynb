{
 "cells": [
  {
   "cell_type": "code",
   "execution_count": 5,
   "metadata": {},
   "outputs": [],
   "source": [
    "import requests\n",
    "import json\n",
    "import prettytable\n",
    "import numpy as np\n",
    "import pandas as pd\n",
    "from config import r_key \n",
    "csv_out='output/education_data.csv'\n",
    "out_path='output/'\n",
    "headers = {'Content-type': 'application/json'}\n",
    "\n",
    "data = json.dumps({\"seriesid\": ['CXUEDUCATNLB0806M','CXUEDUCATNLB0807M','CXUEDUCATNLB0808M','CXUEDUCATNLB0809M',\n",
    "                                'CXUEDUCATNLB1002M','CXUEDUCATNLB1003M','CXUEDUCATNLB1004M','CXUEDUCATNLB1005M', \n",
    "                                'CXUEDUCATNLB1102M','CXUEDUCATNLB1103M','CXUEDUCATNLB1104M','CXUEDUCATNLB1105M',\n",
    "                                'CXUEDUCATNLB1302M','CXUEDUCATNLB1303M','CXUEDUCATNLB1304M','CXUEDUCATNLB1305M', \n",
    "                                'CXUEDUCATNLB1306M','CXUEDUCATNLB1307M','CXUEDUCATNLB1308M','CXUEDUCATNLB1309M',\n",
    "                                'CXUEDUCATNLB0402M','CXUEDUCATNLB0403M','CXUEDUCATNLB0404M','CXUEDUCATNLB0405M',\n",
    "                                'CXUEDUCATNLB0406M','CXUEDUCATNLB0407M','CXUEDUCATNLB0408M','CXUEDUCATNLB0409M'],\n",
    "                   \"startyear\":\"2000\", \"endyear\":\"2017\",\"registrationkey\":r_key})\n",
    "p = requests.post('https://api.bls.gov/publicAPI/v2/timeseries/data/', data=data, headers=headers)\n",
    "json_data = json.loads(p.text)\n",
    "#print(json.dumps(json_data,indent=4))"
   ]
  },
  {
   "cell_type": "code",
   "execution_count": 6,
   "metadata": {},
   "outputs": [],
   "source": [
    "titles={'CXUEDUCATNLB0806M':'area_urban',\n",
    "        'CXUEDUCATNLB0807M':'area_urban_central_city',\n",
    "        'CXUEDUCATNLB0808M':'area_urban_other',\n",
    "        'CXUEDUCATNLB0809M':'area_rural',\n",
    "        'CXUEDUCATNLB1002M':'origin_hispanic_latino',\n",
    "        'CXUEDUCATNLB1003M':'origin_not_hispanic_latino',\n",
    "        'CXUEDUCATNLB1004M':'not_hispanic_white_other',\n",
    "        'CXUEDUCATNLB1005M':'not_hispanic_black_african-american', \n",
    "        'CXUEDUCATNLB1102M':'region_northeast', \n",
    "        'CXUEDUCATNLB1103M':'region_midwest', \n",
    "        'CXUEDUCATNLB1104M':'region_south', \n",
    "        'CXUEDUCATNLB1105M':'region_west', \n",
    "        'CXUEDUCATNLB1302M':'total_less_than_college_graduate', \n",
    "        'CXUEDUCATNLB1303M':'less_than_highschool_graduate', \n",
    "        'CXUEDUCATNLB1304M':'highschool_graduate', \n",
    "        'CXUEDUCATNLB1305M':'highschool_graduate_some_college',\n",
    "        'CXUEDUCATNLB1306M':'associate_degree',\n",
    "        'CXUEDUCATNLB1307M':'total_college_graduate', \n",
    "        'CXUEDUCATNLB1308M':'bachelor_degree', \n",
    "        'CXUEDUCATNLB1309M':'master_professional_doctorate',\n",
    "        'CXUEDUCATNLB0402M':'under_age_25',\n",
    "        'CXUEDUCATNLB0403M':'between_25_and_34',\n",
    "        'CXUEDUCATNLB0404M':'between_35_and_44',\n",
    "        'CXUEDUCATNLB0405M':'between_45_and_54',\n",
    "        'CXUEDUCATNLB0406M':'between_55_and_64',\n",
    "        'CXUEDUCATNLB0407M':'over_65',\n",
    "        'CXUEDUCATNLB0408M':'between_65_and_74',\n",
    "        'CXUEDUCATNLB0409M':'over_75'}\n",
    "\n"
   ]
  },
  {
   "cell_type": "code",
   "execution_count": 7,
   "metadata": {},
   "outputs": [],
   "source": [
    "group=0\n",
    "education_list=[]\n",
    "for series in json_data['Results']['series']:\n",
    "#    x=prettytable.PrettyTable([\"series id\",\"year\",\"period\",\"value\",\"footnotes\"])\n",
    "    seriesid_list=[]\n",
    "    seriesId = series['seriesID']\n",
    "    for item in series['data']:\n",
    "        year = item['year']\n",
    "        value = item['value']        \n",
    "        education_list.append({\"grouping\":titles[seriesId],\n",
    "                               \"group\":group,\n",
    "                               \"year\":year,\n",
    "                               \"value\":value})\n",
    "        seriesid_list.append({\"grouping\":titles[seriesId],\n",
    "                              \"group\":group,\n",
    "                              \"year\":year,\n",
    "                              \"value\":value})\n",
    "#     seriesid_df=pd.DataFrame(seriesid_list)\n",
    "#     seriesid_df=seriesid_df[[\"grouping\",\"group\",\"year\",\"value\"]]\n",
    "#     seriesid_df.to_csv(out_path + seriesId +'.csv ',index=False,header=True)\n",
    "    group+=1"
   ]
  },
  {
   "cell_type": "code",
   "execution_count": 8,
   "metadata": {},
   "outputs": [],
   "source": [
    "education_df=pd.DataFrame(education_list) \n",
    "education_df=education_df[[\"grouping\",\"group\",\"year\",\"value\"]]\n",
    "education_df.to_csv(csv_out,index=False,header=True)       \n"
   ]
  },
  {
   "cell_type": "code",
   "execution_count": null,
   "metadata": {},
   "outputs": [],
   "source": []
  }
 ],
 "metadata": {
  "kernelspec": {
   "display_name": "Python [conda env:PythonData]",
   "language": "python",
   "name": "conda-env-PythonData-py"
  },
  "language_info": {
   "codemirror_mode": {
    "name": "ipython",
    "version": 3
   },
   "file_extension": ".py",
   "mimetype": "text/x-python",
   "name": "python",
   "nbconvert_exporter": "python",
   "pygments_lexer": "ipython3",
   "version": "3.6.5"
  }
 },
 "nbformat": 4,
 "nbformat_minor": 2
}
