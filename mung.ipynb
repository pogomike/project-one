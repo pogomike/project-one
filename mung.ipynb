{
 "cells": [
  {
   "cell_type": "code",
   "execution_count": 29,
   "metadata": {},
   "outputs": [
    {
     "name": "stdout",
     "output_type": "stream",
     "text": [
      "    year  area_urban  area_rural\n",
      "0   2017        1565         667\n",
      "1   2016        1409         459\n",
      "2   2015        1396         494\n",
      "3   2014        1319         342\n",
      "4   2013        1194         537\n",
      "5   2012        1270         507\n",
      "6   2011        1107         425\n",
      "7   2010        1129         499\n",
      "8   2009        1127         456\n",
      "9   2008        1093         554\n",
      "10  2007         989         483\n",
      "11  2006         938         343\n",
      "12  2005         990         418\n",
      "13  2004         972         450\n",
      "14  2003         845         348\n",
      "15  2002         806         363\n",
      "16  2001         700         285\n",
      "17  2000         679         302\n"
     ]
    },
    {
     "data": {
      "image/png": "[encoded data removed]",
      "text/plain": [
       "<Figure size 432x288 with 1 Axes>"
      ]
     },
     "metadata": {},
     "output_type": "display_data"
    },
    {
     "name": "stdout",
     "output_type": "stream",
     "text": [
      "            grouping  group  2003  2004  2005  2006  2007  2008  2009  2010  \\\n",
      "47  area_urban_other      2   911  1021  1026  1030  1013  1139  1209  1155   \n",
      "\n",
      "    2011  2012  2013  2014  2015  2016  2017  \n",
      "47  1105  1358  1268  1352  1437  1344  1606  \n",
      "      grouping  group  2000  2001  2002  2003  2004  2005  2006  2007  2008  \\\n",
      "65  area_rural      3   302   285   363   348   450   418   343   483   554   \n",
      "\n",
      "    2009  2010  2011  2012  2013  2014  2015  2016  2017  \n",
      "65   456   499   425   507   537   342   494   459   667  \n",
      "                  grouping  group  2000  2001  2002  2003  2004  2005  2006  \\\n",
      "83  origin_hispanic_latino      4   363   428   488   477   438   558   633   \n",
      "\n",
      "    2007  2008  2009  2010  2011  2012  \n",
      "83   415   669   707   803   624   488  \n"
     ]
    }
   ],
   "source": [
    "import matplotlib.pyplot as plt\n",
    "import numpy as np\n",
    "import pandas as pd\n",
    "\n",
    "file=\"output/education_data.csv\"\n",
    "cx_df=pd.read_csv(file)\n",
    "\n",
    "# rural  vs urban graphing -- group 1-- incomplete data 2000-2002\n",
    "# LB0806 area_urban\n",
    "# LB0807 area_urban_central_city\n",
    "# LB0808 area_urban_other\n",
    "# LB0809 area_rural\n",
    "\n",
    "\n",
    "area_dict={\"year\":['2017','2016','2015','2014','2013','2012','2011','2010','2009','2008','2007','2006','2005','2004','2003','2002','2001','2000']}\n",
    "area_df=pd.DataFrame(area_dict) \n",
    "group_range=['area_urban','area_rural']  # 'area_urban_central_city','area_urban_other',\n",
    "for group in group_range:\n",
    "    select_df=cx_df.loc[cx_df[\"grouping\"]==group,:] \n",
    "    area_df[group]=select_df[\"value\"].values\n",
    "print(area_df)\n",
    "area_df.plot(kind=\"bar\", stacked=True)\n",
    "plt.show()\n",
    "\n",
    "\n",
    "\n",
    "\n",
    "#-----------------------not done after here\n",
    " # origin group graphing -- group 2--incomplete data 2000-2002\n",
    "year_df=cx_df.loc[cx_df[\"year\"]==2003,:]\n",
    "select_df=year_df.loc[year_df[\"group\"]==2,:] \n",
    "origin_df=select_df[[\"grouping\",\"group\",\"value\"]]\n",
    "origin_df=origin_df.rename(columns={\"value\":\"2003\"})\n",
    "\n",
    "year_range=['2004','2005','2006','2007','2008','2009','2010','2011','2012','2013','2014','2015','2016','2017']    \n",
    "for year in year_range:             # same year range\n",
    "    year_df=cx_df.loc[cx_df[\"year\"]==int(year),:]\n",
    "    select_df=year_df.loc[year_df[\"group\"]==2,:] \n",
    "    origin_df[year]=select_df[\"value\"].values\n",
    "print(origin_df)\n",
    "\n",
    "\n",
    "#region group -- group 3\n",
    "year_range=['2001','2002','2003','2004','2005','2006','2007','2008','2009','2010','2011','2012','2013','2014','2015','2016','2017']\n",
    "year_df=cx_df.loc[cx_df[\"year\"]==2000,:]\n",
    "select_df=year_df.loc[year_df[\"group\"]==3,:] \n",
    "region_df=select_df[[\"grouping\",\"group\",\"value\"]]\n",
    "region_df=region_df.rename(columns={\"value\":\"2000\"})\n",
    "\n",
    "year_range=['2001','2002','2003','2004','2005','2006','2007','2008','2009','2010','2011','2012','2013','2014','2015','2016','2017']    \n",
    "for year in year_range:             \n",
    "    year_df=cx_df.loc[cx_df[\"year\"]==int(year),:]\n",
    "    select_df=year_df.loc[year_df[\"group\"]==3,:] \n",
    "    region_df[year]=select_df[\"value\"].values\n",
    "print(region_df)\n",
    "\n",
    "#education group -- group 4\n",
    "year_df=cx_df.loc[cx_df[\"year\"]==2000,:]\n",
    "select_df=year_df.loc[year_df[\"group\"]==4,:] \n",
    "education_df=select_df[[\"grouping\",\"group\",\"value\"]]\n",
    "education_df=education_df.rename(columns={\"value\":\"2000\"})\n",
    "\n",
    "year_range=['2001','2002','2003','2004','2005','2006','2007','2008','2009','2010','2011','2012']\n",
    "for year in year_range:             \n",
    "    year_df=cx_df.loc[cx_df[\"year\"]==int(year),:]\n",
    "    select_df=year_df.loc[year_df[\"group\"]==4,:] \n",
    "    education_df[year]=select_df[\"value\"].values\n",
    "print(education_df)\n"
   ]
  },
  {
   "cell_type": "code",
   "execution_count": null,
   "metadata": {},
   "outputs": [],
   "source": []
  }
 ],
 "metadata": {
  "kernelspec": {
   "display_name": "Python [conda env:PythonData]",
   "language": "python",
   "name": "conda-env-PythonData-py"
  },
  "language_info": {
   "codemirror_mode": {
    "name": "ipython",
    "version": 3
   },
   "file_extension": ".py",
   "mimetype": "text/x-python",
   "name": "python",
   "nbconvert_exporter": "python",
   "pygments_lexer": "ipython3",
   "version": "3.6.5"
  }
 },
 "nbformat": 4,
 "nbformat_minor": 2
}
