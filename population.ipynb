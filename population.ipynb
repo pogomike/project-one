{
 "cells": [
  {
   "cell_type": "code",
   "execution_count": 1,
   "metadata": {},
   "outputs": [],
   "source": [
    "%matplotlib inline\n",
    "from scipy.stats import sem\n",
    "import matplotlib.pyplot as plt\n",
    "import pandas as pd\n",
    "import numpy as np\n",
    "#from graph import autolabel           "
   ]
  },
  {
   "cell_type": "code",
   "execution_count": 2,
   "metadata": {},
   "outputs": [
    {
     "data": {
      "text/html": [
       "<div>\n",
       "<style scoped>\n",
       "    .dataframe tbody tr th:only-of-type {\n",
       "        vertical-align: middle;\n",
       "    }\n",
       "\n",
       "    .dataframe tbody tr th {\n",
       "        vertical-align: top;\n",
       "    }\n",
       "\n",
       "    .dataframe thead th {\n",
       "        text-align: right;\n",
       "    }\n",
       "</style>\n",
       "<table border=\"1\" class=\"dataframe\">\n",
       "  <thead>\n",
       "    <tr style=\"text-align: right;\">\n",
       "      <th></th>\n",
       "      <th>year</th>\n",
       "      <th>county</th>\n",
       "      <th>value</th>\n",
       "    </tr>\n",
       "  </thead>\n",
       "  <tbody>\n",
       "    <tr>\n",
       "      <th>0</th>\n",
       "      <td>2014</td>\n",
       "      <td>Hennepin</td>\n",
       "      <td>171</td>\n",
       "    </tr>\n",
       "    <tr>\n",
       "      <th>2</th>\n",
       "      <td>2014</td>\n",
       "      <td>Ramsey</td>\n",
       "      <td>139</td>\n",
       "    </tr>\n",
       "    <tr>\n",
       "      <th>1</th>\n",
       "      <td>2014</td>\n",
       "      <td>Itasca</td>\n",
       "      <td>103</td>\n",
       "    </tr>\n",
       "    <tr>\n",
       "      <th>3</th>\n",
       "      <td>2014</td>\n",
       "      <td>Stearns</td>\n",
       "      <td>88</td>\n",
       "    </tr>\n",
       "    <tr>\n",
       "      <th>4</th>\n",
       "      <td>2014</td>\n",
       "      <td>Steele</td>\n",
       "      <td>81</td>\n",
       "    </tr>\n",
       "  </tbody>\n",
       "</table>\n",
       "</div>"
      ],
      "text/plain": [
       "   year    county value\n",
       "0  2014  Hennepin   171\n",
       "2  2014    Ramsey   139\n",
       "1  2014    Itasca   103\n",
       "3  2014   Stearns    88\n",
       "4  2014    Steele    81"
      ]
     },
     "execution_count": 2,
     "metadata": {},
     "output_type": "execute_result"
    }
   ],
   "source": [
    "#make data home value\n",
    "HV_file=\"County_MedianValuePerSqft_AllHo.csv\"\n",
    "home_val_data = pd.read_csv(HV_file)\n",
    "home_val_year=home_val_data[home_val_data[\"Year\"]==2014].values\n",
    "home_val_df=pd.DataFrame(home_val_year,columns=[\"year\",\"county\",\"value\"])\n",
    "home_val_df=home_val_df.sort_values(\"value\",ascending = False)\n",
    "\n",
    "home_val_df  #[\"county\"]=home_val_df[\"county\"].astype(str)\n",
    "#home_val_df.dtypes"
   ]
  },
  {
   "cell_type": "code",
   "execution_count": 3,
   "metadata": {},
   "outputs": [
    {
     "data": {
      "text/html": [
       "<div>\n",
       "<style scoped>\n",
       "    .dataframe tbody tr th:only-of-type {\n",
       "        vertical-align: middle;\n",
       "    }\n",
       "\n",
       "    .dataframe tbody tr th {\n",
       "        vertical-align: top;\n",
       "    }\n",
       "\n",
       "    .dataframe thead th {\n",
       "        text-align: right;\n",
       "    }\n",
       "</style>\n",
       "<table border=\"1\" class=\"dataframe\">\n",
       "  <thead>\n",
       "    <tr style=\"text-align: right;\">\n",
       "      <th></th>\n",
       "      <th>county</th>\n",
       "      <th>year</th>\n",
       "      <th>population</th>\n",
       "    </tr>\n",
       "  </thead>\n",
       "  <tbody>\n",
       "    <tr>\n",
       "      <th>0</th>\n",
       "      <td>Hennepin</td>\n",
       "      <td>2010</td>\n",
       "      <td>100000</td>\n",
       "    </tr>\n",
       "    <tr>\n",
       "      <th>1</th>\n",
       "      <td>Ramsey</td>\n",
       "      <td>2010</td>\n",
       "      <td>90000</td>\n",
       "    </tr>\n",
       "    <tr>\n",
       "      <th>2</th>\n",
       "      <td>Itasca</td>\n",
       "      <td>2010</td>\n",
       "      <td>70000</td>\n",
       "    </tr>\n",
       "    <tr>\n",
       "      <th>3</th>\n",
       "      <td>Stearns</td>\n",
       "      <td>2010</td>\n",
       "      <td>80000</td>\n",
       "    </tr>\n",
       "    <tr>\n",
       "      <th>4</th>\n",
       "      <td>Steele</td>\n",
       "      <td>2010</td>\n",
       "      <td>50000</td>\n",
       "    </tr>\n",
       "  </tbody>\n",
       "</table>\n",
       "</div>"
      ],
      "text/plain": [
       "     county  year  population\n",
       "0  Hennepin  2010      100000\n",
       "1    Ramsey  2010       90000\n",
       "2    Itasca  2010       70000\n",
       "3   Stearns  2010       80000\n",
       "4    Steele  2010       50000"
      ]
     },
     "execution_count": 3,
     "metadata": {},
     "output_type": "execute_result"
    }
   ],
   "source": [
    "#Make data population\n",
    "pop_df=pd.DataFrame([[\"Hennepin\",2010,100000],\n",
    "                     [\"Ramsey\",2010,90000],\n",
    "                     [\"Itasca\",2010,70000],\n",
    "                     [\"Stearns\",2010,80000],\n",
    "                     [\"Steele\",2010,50000]],columns=[\"county\",\"year\",\"population\"])\n",
    "pop_df\n"
   ]
  },
  {
   "cell_type": "code",
   "execution_count": 4,
   "metadata": {},
   "outputs": [],
   "source": [
    "merge_df=pd.merge(home_val_df,pop_df,how='outer',on=\"county\")"
   ]
  },
  {
   "cell_type": "code",
   "execution_count": 5,
   "metadata": {},
   "outputs": [
    {
     "data": {
      "image/png": "[encoded data removed]",
      "text/plain": [
       "<Figure size 504x504 with 3 Axes>"
      ]
     },
     "metadata": {},
     "output_type": "display_data"
    }
   ],
   "source": [
    "\n",
    "width=.3\n",
    "fig,ax1=plt.subplots(figsize=(7,7))\n",
    "ax2=ax1.twinx()\n",
    "\n",
    "fig.suptitle(\"Home Value and Population within a County\",fontsize=16,fontweight='bold')\n",
    "\n",
    "\n",
    "merge_df[\"value\"].plot(kind='bar', width = width,color='blue',ax=ax1,edgecolor='black')\n",
    "#plt.ylabel(\"Home Value (per sq. ft.)\")\n",
    "merge_df[\"population\"].plot(kind='line',secondary_y=True,color='red')\n",
    "\n",
    "                         #set shared values\n",
    "x_axis=np.arange(0,len(home_val_df[\"county\"]))\n",
    "ax1.set_xticks(x_axis)\n",
    "ax1.set_xticklabels(merge_df[\"county\"],fontsize=12,rotation=0)\n",
    "ax1.set_xlim(-.5, len(home_val_df[\"county\"])-0.5)\n",
    "\n",
    "ax1.set_facecolor('lightgrey')              #background\n",
    "ax1.grid(color='white')\n",
    "\n",
    "plt.ylabel(\"Population\",color='red')                 #set y axis values\n",
    "ax1.set_ylabel(\"Home Value (per sq. ft.)\",color='blue',fontsize=12)\n",
    "# ax2.set_ylabel(\"Population\",color='red',fontsize=12)\n",
    "#ax1.yaxis.tick_left()\n",
    "#ax2.yaxis.tick_right()\n",
    "\n",
    "\n",
    "#ax1 = plt.gca()\n",
    "plt.xlim([-width, len(merge_df[\"value\"])-width])\n",
    "\n",
    "\n",
    "plt.show()\n",
    "\n",
    "# Save the Figure\n",
    "#fig.savefig(\"HV-population.png\")\n",
    "# Show the Figure \n",
    "#fig.show()"
   ]
  },
  {
   "cell_type": "code",
   "execution_count": null,
   "metadata": {},
   "outputs": [],
   "source": []
  },
  {
   "cell_type": "code",
   "execution_count": null,
   "metadata": {},
   "outputs": [],
   "source": []
  }
 ],
 "metadata": {
  "kernelspec": {
   "display_name": "Python [conda env:PythonData]",
   "language": "python",
   "name": "conda-env-PythonData-py"
  },
  "language_info": {
   "codemirror_mode": {
    "name": "ipython",
    "version": 3
   },
   "file_extension": ".py",
   "mimetype": "text/x-python",
   "name": "python",
   "nbconvert_exporter": "python",
   "pygments_lexer": "ipython3",
   "version": "3.6.5"
  }
 },
 "nbformat": 4,
 "nbformat_minor": 2
}
